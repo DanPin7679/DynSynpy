{
 "cells": [
  {
   "cell_type": "markdown",
   "metadata": {},
   "source": [
    "# Dice Model"
   ]
  },
  {
   "cell_type": "code",
   "execution_count": 1,
   "metadata": {},
   "outputs": [],
   "source": [
    "import numpy as np\n",
    "from dynsyspy.system import Param, Intermediary, Flow, Stock, Module, System, pass_globals\n",
    "from dynsyspy.types.problem import ProblemType, Solver\n",
    "from dynsyspy.problem import Problem\n",
    "from dynsyspy import plot as plt\n",
    "import sympy as sp\n",
    "from sympy.abc import *\n",
    "from sympy import Array\n",
    "from sympy.parsing.sympy_parser import parse_expr\n",
    "pass_globals(globals())\n",
    "import plotly.express as px\n",
    "import pandas as pd\n",
    "from IPython.display import display, Math, Markdown, Latex\n",
    "\n",
    "dice_df = pd.read_csv(\"DICE2023.csv\")\n",
    "damage = dice_df.Abatement2019 + dice_df.Damages2019\n",
    "sav_rate = dice_df.Savingsratefractiongrossoutput"
   ]
  },
  {
   "cell_type": "markdown",
   "metadata": {},
   "source": [
    "## Economic Module"
   ]
  },
  {
   "cell_type": "code",
   "execution_count": 2,
   "metadata": {
    "vscode": {
     "languageId": "julia"
    }
   },
   "outputs": [
    {
     "ename": "ValidationError",
     "evalue": "1 validation error for Intermediary\neq_rhs\n  Field required [type=missing, input_value={'name': 'Y_g', 'descript...a*(P/1000)**(1 - gamma)}, input_type=dict]\n    For further information visit https://errors.pydantic.dev/2.6/v/missing",
     "output_type": "error",
     "traceback": [
      "\u001b[0;31m---------------------------------------------------------------------------\u001b[0m",
      "\u001b[0;31mValidationError\u001b[0m                           Traceback (most recent call last)",
      "Cell \u001b[0;32mIn[2], line 11\u001b[0m\n\u001b[1;32m      8\u001b[0m Ps \u001b[38;5;241m=\u001b[39m Stock(name\u001b[38;5;241m=\u001b[39m\u001b[38;5;124m\"\u001b[39m\u001b[38;5;124mP\u001b[39m\u001b[38;5;124m\"\u001b[39m, description\u001b[38;5;241m=\u001b[39m\u001b[38;5;124m\"\u001b[39m\u001b[38;5;124mPopulation\u001b[39m\u001b[38;5;124m\"\u001b[39m, flow_in\u001b[38;5;241m=\u001b[39mflow_in_p)\n\u001b[1;32m     10\u001b[0m gamma_ \u001b[38;5;241m=\u001b[39m Param(name\u001b[38;5;241m=\u001b[39m\u001b[38;5;124m\"\u001b[39m\u001b[38;5;124mgamma\u001b[39m\u001b[38;5;124m\"\u001b[39m, description\u001b[38;5;241m=\u001b[39m\u001b[38;5;124m\"\u001b[39m\u001b[38;5;124mLabor Capital Substitution factor\u001b[39m\u001b[38;5;124m\"\u001b[39m)\n\u001b[0;32m---> 11\u001b[0m Ygi \u001b[38;5;241m=\u001b[39m Intermediary(name\u001b[38;5;241m=\u001b[39m\u001b[38;5;124m\"\u001b[39m\u001b[38;5;124mY_g\u001b[39m\u001b[38;5;124m\"\u001b[39m, description\u001b[38;5;241m=\u001b[39m\u001b[38;5;124m\"\u001b[39m\u001b[38;5;124mProduction\u001b[39m\u001b[38;5;124m\"\u001b[39m, eq\u001b[38;5;241m=\u001b[39mA \u001b[38;5;241m*\u001b[39m K\u001b[38;5;241m*\u001b[39m\u001b[38;5;241m*\u001b[39mgamma \u001b[38;5;241m*\u001b[39m (P\u001b[38;5;241m/\u001b[39m\u001b[38;5;241m1000\u001b[39m)\u001b[38;5;241m*\u001b[39m\u001b[38;5;241m*\u001b[39m(\u001b[38;5;241m1\u001b[39m \u001b[38;5;241m-\u001b[39m gamma)) \n\u001b[1;32m     12\u001b[0m dar \u001b[38;5;241m=\u001b[39m Param(name\u001b[38;5;241m=\u001b[39m\u001b[38;5;124m\"\u001b[39m\u001b[38;5;124mda_r\u001b[39m\u001b[38;5;124m\"\u001b[39m, description\u001b[38;5;241m=\u001b[39m\u001b[38;5;124m\"\u001b[39m\u001b[38;5;124mRate of Decline of Tech Growth\u001b[39m\u001b[38;5;124m\"\u001b[39m)\n\u001b[1;32m     13\u001b[0m flow_out_ag \u001b[38;5;241m=\u001b[39m Flow(name\u001b[38;5;241m=\u001b[39m\u001b[38;5;124m\"\u001b[39m\u001b[38;5;124ma_g\u001b[39m\u001b[38;5;124m\"\u001b[39m, eq\u001b[38;5;241m=\u001b[39m (sp\u001b[38;5;241m.\u001b[39mexp(\u001b[38;5;241m-\u001b[39m\u001b[38;5;241m5\u001b[39m \u001b[38;5;241m*\u001b[39m da_r) \u001b[38;5;241m-\u001b[39m \u001b[38;5;241m1\u001b[39m) \u001b[38;5;241m*\u001b[39m a)\n",
      "File \u001b[0;32m~/anaconda3/envs/AnalyseClimate/lib/python3.11/site-packages/pydantic/main.py:171\u001b[0m, in \u001b[0;36mBaseModel.__init__\u001b[0;34m(self, **data)\u001b[0m\n\u001b[1;32m    169\u001b[0m \u001b[38;5;66;03m# `__tracebackhide__` tells pytest and some other tools to omit this function from tracebacks\u001b[39;00m\n\u001b[1;32m    170\u001b[0m __tracebackhide__ \u001b[38;5;241m=\u001b[39m \u001b[38;5;28;01mTrue\u001b[39;00m\n\u001b[0;32m--> 171\u001b[0m \u001b[38;5;28mself\u001b[39m\u001b[38;5;241m.\u001b[39m__pydantic_validator__\u001b[38;5;241m.\u001b[39mvalidate_python(data, self_instance\u001b[38;5;241m=\u001b[39m\u001b[38;5;28mself\u001b[39m)\n",
      "\u001b[0;31mValidationError\u001b[0m: 1 validation error for Intermediary\neq_rhs\n  Field required [type=missing, input_value={'name': 'Y_g', 'descript...a*(P/1000)**(1 - gamma)}, input_type=dict]\n    For further information visit https://errors.pydantic.dev/2.6/v/missing"
     ]
    }
   ],
   "source": [
    "#D = sp.Array(damage)\n",
    "#sp.var('s', cls=sp.Function)\n",
    "\n",
    "ps = Param(name=\"s\", description=\"Saving Rate\")\n",
    "pr = Param(name=\"p_r\", description=\"2050 parameter\")\n",
    "ar = Param(name=\"p_asymp\", description=\"Asymptotic\")\n",
    "flow_in_p = Flow(name=\"P_g\", eq=P * ((p_asymp / P)**p_r - 1))\n",
    "Ps = Stock(name=\"P\", description=\"Population\", flow_in=flow_in_p)\n",
    "\n",
    "gamma_ = Param(name=\"gamma\", description=\"Labor Capital Substitution factor\")\n",
    "Ygi = Intermediary(name=\"Y_g\", description=\"Production\", eq_rhs=A * K**gamma * (P/1000)**(1 - gamma)) \n",
    "dar = Param(name=\"da_r\", description=\"Rate of Decline of Tech Growth\")\n",
    "flow_out_ag = Flow(name=\"a_g\", eq= (sp.exp(-5 * da_r) - 1) * a)\n",
    "Ags = Stock(name=\"a\", description=\"Growth Rate Technology\", flow_out=flow_out_ag)\n",
    "\n",
    "flow_in_a = Flow(name=\"A_g\", eq=(1 / (1 - a) - 1) * A)\n",
    "As = Stock(name=\"A\", description=\"Technological State\", flow_in=flow_in_a)\n",
    "\n",
    "delta_ = Param(name=\"delta\", description=\"Depreciation\")\n",
    "flow_in_k = Flow(name=\"I\", eq=5 * s * (Y_g - 0.0))\n",
    "flow_out_k = Flow(name=\"Dp\", eq=-K * ((1-delta)**5 - 1))\n",
    "Ks = Stock(name=\"K\", description=\"Capital\", flow_in=flow_in_k, flow_out=flow_out_k)\n",
    "\n",
    "mod = Module(name=\"Econ\", stocks=[Ps, As, Ks, Ags], params=[ps, pr, ar, delta_, gamma_, dar], inters=[Ygi])\n",
    "sys = System(name=\"Solow\", modules=[mod])"
   ]
  },
  {
   "cell_type": "markdown",
   "metadata": {},
   "source": [
    "### Model Description"
   ]
  },
  {
   "cell_type": "code",
   "execution_count": null,
   "metadata": {},
   "outputs": [],
   "source": [
    "#sys.print()"
   ]
  },
  {
   "cell_type": "markdown",
   "metadata": {},
   "source": [
    "## Solve Problem"
   ]
  },
  {
   "cell_type": "markdown",
   "metadata": {},
   "source": [
    "### Economic Module\t\n",
    "#### Capital share \t0.3000\n",
    "- Rate of depreciation (percent per year) \t0.1000\n",
    "  \n",
    "#### Initial output (2010 US International $, trillions)\n",
    "\n",
    "- Year 2020 (centered trilliions 2029 PPP $) \t 135.70\n",
    "  \n",
    "#### Population  \t\n",
    "- Initial, 2020 (millions) \t7,753\n",
    "- 2050 parameter \t 0.1450 \n",
    "- Asymptotic \t10,825\n",
    "  \n",
    "#### Total factor productivity \t\n",
    "- Initial K \t295\n",
    "- Initial level of total factor productivity  \t5.8400\n",
    "- Initial growth rate for TFP per 5 years \t 0.066 \n",
    "- Decline rate of TFP per 5 years \t0.0015"
   ]
  },
  {
   "cell_type": "code",
   "execution_count": null,
   "metadata": {},
   "outputs": [],
   "source": [
    "# Population\n",
    "init_pop = 7753\n",
    "param_2050_pop = 0.1450 \n",
    "asymp_pop = 10825\n",
    "\n",
    "# Productivity\n",
    "init_level_prod = 5.8400\n",
    "init_growth_rate = 0.066 # for TFP per 5 years \t \n",
    "decline_rate = 0.0015 # of TFP per 5 years \n",
    "\n",
    "# Capital\n",
    "init_k = 295\n",
    "capital_share = 0.30\n",
    "depreciation = 0.10\n",
    "# Initial output (2019 US International $, trillions) \t135.70000"
   ]
  },
  {
   "cell_type": "code",
   "execution_count": null,
   "metadata": {},
   "outputs": [],
   "source": [
    "tspan = np.arange(2020,2425,5)\n",
    "init_vals={\n",
    "    P:init_pop,\n",
    "    A:init_level_prod,\n",
    "    K:init_k,\n",
    "    a: init_growth_rate\n",
    "}\n",
    "sf=lambda : 0.25 * t\n",
    "params_vals={\n",
    "    s: 0.25,\n",
    "    p_r: param_2050_pop,\n",
    "    p_asymp: asymp_pop,\n",
    "    delta: depreciation,\n",
    "    gamma: capital_share,\n",
    "    da_r: decline_rate,\n",
    "}\n",
    "\n",
    "prob = Problem(\n",
    "    name=\"Run 1\", \n",
    "    t_span=tspan, \n",
    "    system=sys,  \n",
    "    init_vals=init_vals, \n",
    "    param_vals=params_vals, \n",
    "    policy_vals={},\n",
    "    solver=Solver.custom\n",
    ")\n",
    "prob.solve()\n",
    "res=prob.results\n",
    "res"
   ]
  },
  {
   "cell_type": "code",
   "execution_count": null,
   "metadata": {},
   "outputs": [],
   "source": [
    "\"\"\"yg_eq = Ygi.eq\n",
    "yg_lambda = sp.lambdify(((P, A, K, a), (p_r, p_asymp, delta, gamma, da_r)), yg_eq)\n",
    "yg_array = yg_lambda((res.P, res.A, res.K, res.a), (param_2050_pop, asymp_pop, depreciation, capital_share, decline_rate,))\n",
    "p_flow_lambda = sp.lambdify(((P, A, K, a), (p_r, p_asymp, delta, gamma, da_r)), flow_in_p.eq)\n",
    "p_flow = p_flow_lambda((res.P, res.A, res.K, res.a), (param_2050_pop, asymp_pop, depreciation, capital_share, decline_rate,))\n",
    "p_flow\n",
    "yg_array\n",
    "res\"\"\""
   ]
  },
  {
   "cell_type": "code",
   "execution_count": null,
   "metadata": {},
   "outputs": [],
   "source": [
    "#res[\"Yg\"] = res.A * res.K**params_vals[gamma] * (res.P/1000)**(1-params_vals[gamma])\n",
    "#res[\"Yn\"] = res.Yg - damage\n",
    "#res[\"I\"] = sav_rate * res[\"Yn\"]"
   ]
  },
  {
   "cell_type": "markdown",
   "metadata": {},
   "source": [
    "### Verification with Excel file numbers"
   ]
  },
  {
   "cell_type": "code",
   "execution_count": null,
   "metadata": {},
   "outputs": [],
   "source": [
    "enddate = 2100\n",
    "slice = int((2100-2020)/5+1)\n",
    "#dice_df.columns"
   ]
  },
  {
   "cell_type": "code",
   "execution_count": null,
   "metadata": {},
   "outputs": [],
   "source": [
    "px.line(x=dice_df.Year[:slice], y=[dice_df.Population[:slice], res.P[:slice]] )"
   ]
  },
  {
   "cell_type": "code",
   "execution_count": null,
   "metadata": {},
   "outputs": [],
   "source": [
    "px.line(x=dice_df.Year[:slice], y=[dice_df.TFP[:slice], res.A[:slice]] )"
   ]
  },
  {
   "cell_type": "code",
   "execution_count": null,
   "metadata": {},
   "outputs": [],
   "source": [
    "px.line(x=dice_df.Year[:slice], y=[dice_df.Outputgrossgross2019[:slice], res.Y_g[:slice]])"
   ]
  },
  {
   "cell_type": "code",
   "execution_count": null,
   "metadata": {},
   "outputs": [],
   "source": [
    "#px.line(x=dice_df.Year[:slice], y=[dice_df.Ygrossnet2019[:slice], res.Y_n[:slice]])"
   ]
  },
  {
   "cell_type": "code",
   "execution_count": null,
   "metadata": {},
   "outputs": [],
   "source": [
    "px.line(x=dice_df.Year[:slice], y=[dice_df.Capitalstock2019[:slice], res.K[:slice]])"
   ]
  },
  {
   "cell_type": "code",
   "execution_count": null,
   "metadata": {},
   "outputs": [],
   "source": [
    "px.line(x=dice_df.Year[:slice], y=[dice_df.Grossinvestment2019[:slice], res.I[:slice]])"
   ]
  },
  {
   "cell_type": "code",
   "execution_count": null,
   "metadata": {},
   "outputs": [],
   "source": []
  },
  {
   "cell_type": "code",
   "execution_count": null,
   "metadata": {},
   "outputs": [],
   "source": []
  },
  {
   "cell_type": "code",
   "execution_count": null,
   "metadata": {},
   "outputs": [],
   "source": [
    "sp.var('Account', cls=sp.Function)\n",
    "sp.var('time int_r')"
   ]
  },
  {
   "cell_type": "code",
   "execution_count": null,
   "metadata": {},
   "outputs": [],
   "source": [
    "eq = sp.Eq(Account(time).diff(time), int_r * Account(time))\n",
    "eq"
   ]
  },
  {
   "cell_type": "code",
   "execution_count": null,
   "metadata": {},
   "outputs": [],
   "source": [
    "solved = sp.dsolve(eq)"
   ]
  },
  {
   "cell_type": "code",
   "execution_count": null,
   "metadata": {},
   "outputs": [],
   "source": [
    "eq_lambda = sp.lambdify((time, Account), solved)"
   ]
  },
  {
   "cell_type": "code",
   "execution_count": null,
   "metadata": {},
   "outputs": [],
   "source": [
    "eq_lambda((2, 10))"
   ]
  },
  {
   "cell_type": "code",
   "execution_count": null,
   "metadata": {},
   "outputs": [],
   "source": []
  }
 ],
 "metadata": {
  "kernelspec": {
   "display_name": "Python 3 (ipykernel)",
   "language": "python",
   "name": "python3"
  },
  "language_info": {
   "codemirror_mode": {
    "name": "ipython",
    "version": 3
   },
   "file_extension": ".py",
   "mimetype": "text/x-python",
   "name": "python",
   "nbconvert_exporter": "python",
   "pygments_lexer": "ipython3",
   "version": "3.11.8"
  }
 },
 "nbformat": 4,
 "nbformat_minor": 4
}
