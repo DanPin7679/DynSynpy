{
 "cells": [
  {
   "cell_type": "markdown",
   "metadata": {},
   "source": [
    "# Dice Model"
   ]
  },
  {
   "cell_type": "code",
   "execution_count": 1,
   "metadata": {},
   "outputs": [],
   "source": [
    "import numpy as np\n",
    "from dynsyspy.system import Param, Intermediary, Flow, Stock, Module, System, pass_globals\n",
    "from dynsyspy.types.problem import ProblemType, Solver\n",
    "from dynsyspy.problem import Problem\n",
    "from dynsyspy import plot as plt\n",
    "import sympy as sp\n",
    "from sympy.abc import *\n",
    "from sympy import Array\n",
    "from sympy.parsing.sympy_parser import parse_expr\n",
    "pass_globals(globals())\n",
    "import plotly.express as px\n",
    "import pandas as pd\n",
    "from IPython.display import display, Math, Markdown, Latex\n",
    "\n",
    "dice_df = pd.read_csv(\"DICE2023.csv\")\n",
    "damage = dice_df.Abatement2019 + dice_df.Damages2019\n",
    "sav_rate = dice_df.Savingsratefractiongrossoutput"
   ]
  },
  {
   "cell_type": "markdown",
   "metadata": {},
   "source": [
    "## Economic Module"
   ]
  },
  {
   "cell_type": "code",
   "execution_count": 2,
   "metadata": {
    "vscode": {
     "languageId": "julia"
    }
   },
   "outputs": [],
   "source": [
    "D = sp.Array(damage)\n",
    "#sp.var('s', cls=sp.Function)\n",
    "\n",
    "ps = Param(name=\"s\", description=\"Saving Rate\", isFunction=True)\n",
    "pr = Param(name=\"p_r\", description=\"2050 parameter\")\n",
    "ar = Param(name=\"p_asymp\", description=\"Asymptotic\")\n",
    "flow_in_p = Flow(name=\"P_g\", eq=P * ((p_asymp / P)**p_r - 1))\n",
    "Ps = Stock(name=\"P\", description=\"Population\", flow_in=flow_in_p)\n",
    "\n",
    "gamma_ = Param(name=\"gamma\", description=\"Labor Capital Substitution factor\")\n",
    "Ygi = Intermediary(name=\"Y_g\", description=\"Production\", eq=A * K**gamma * (P/1000)**(1 - gamma)) \n",
    "dar = Param(name=\"da_r\", description=\"Rate of Decline of Tech Growth\")\n",
    "flow_out_ag = Flow(name=\"a_g\", eq= (sp.exp(-5 * da_r) - 1) * a)\n",
    "Ags = Stock(name=\"a\", description=\"Growth Rate Technology\", flow_out=flow_out_ag)\n",
    "\n",
    "flow_in_a = Flow(name=\"A_g\", eq=(1 / (1 - a) - 1) * A)\n",
    "As = Stock(name=\"A\", description=\"Technological State\", flow_in=flow_in_a)\n",
    "\n",
    "delta_ = Param(name=\"delta\", description=\"Depreciation\")\n",
    "flow_in_k = Flow(name=\"I\", eq=5 * s * (Y_g - 0.0))\n",
    "flow_out_k = Flow(name=\"Dp\", eq=-K * ((1-delta)**5 - 1))\n",
    "Ks = Stock(name=\"K\", description=\"Capital\", flow_in=flow_in_k, flow_out=flow_out_k)\n",
    "\n",
    "mod = Module(name=\"Econ\", stocks=[Ps, As, Ks, Ags], params=[pr, ar, delta_, gamma_, dar], inters=[Ygi])\n",
    "sys = System(name=\"Solow\", modules=[mod])"
   ]
  },
  {
   "cell_type": "markdown",
   "metadata": {},
   "source": [
    "### Model Description"
   ]
  },
  {
   "cell_type": "code",
   "execution_count": 3,
   "metadata": {},
   "outputs": [],
   "source": [
    "#sys.print()"
   ]
  },
  {
   "cell_type": "markdown",
   "metadata": {},
   "source": [
    "## Solve Problem"
   ]
  },
  {
   "cell_type": "markdown",
   "metadata": {},
   "source": [
    "### Economic Module\t\n",
    "#### Capital share \t0.3000\n",
    "- Rate of depreciation (percent per year) \t0.1000\n",
    "  \n",
    "#### Initial output (2010 US International $, trillions)\n",
    "\n",
    "- Year 2020 (centered trilliions 2029 PPP $) \t 135.70\n",
    "  \n",
    "#### Population  \t\n",
    "- Initial, 2020 (millions) \t7,753\n",
    "- 2050 parameter \t 0.1450 \n",
    "- Asymptotic \t10,825\n",
    "  \n",
    "#### Total factor productivity \t\n",
    "- Initial K \t295\n",
    "- Initial level of total factor productivity  \t5.8400\n",
    "- Initial growth rate for TFP per 5 years \t 0.066 \n",
    "- Decline rate of TFP per 5 years \t0.0015"
   ]
  },
  {
   "cell_type": "code",
   "execution_count": 4,
   "metadata": {},
   "outputs": [],
   "source": [
    "# Population\n",
    "init_pop = 7753\n",
    "param_2050_pop = 0.1450 \n",
    "asymp_pop = 10825\n",
    "\n",
    "# Productivity\n",
    "init_level_prod = 5.8400\n",
    "init_growth_rate = 0.066 # for TFP per 5 years \t \n",
    "decline_rate = 0.0015 # of TFP per 5 years \n",
    "\n",
    "# Capital\n",
    "init_k = 295\n",
    "capital_share = 0.30\n",
    "depreciation = 0.10\n",
    "# Initial output (2019 US International $, trillions) \t135.70000"
   ]
  },
  {
   "cell_type": "code",
   "execution_count": 5,
   "metadata": {},
   "outputs": [
    {
     "ename": "TypeError",
     "evalue": "Cannot convert expression to float",
     "output_type": "error",
     "traceback": [
      "\u001b[0;31m---------------------------------------------------------------------------\u001b[0m",
      "\u001b[0;31mTypeError\u001b[0m                                 Traceback (most recent call last)",
      "Cell \u001b[0;32mIn[5], line 27\u001b[0m\n\u001b[1;32m      9\u001b[0m params_vals\u001b[38;5;241m=\u001b[39m{\n\u001b[1;32m     10\u001b[0m     s: \u001b[38;5;28;01mlambda\u001b[39;00m t: damage[t],\n\u001b[1;32m     11\u001b[0m     p_r: param_2050_pop,\n\u001b[0;32m   (...)\u001b[0m\n\u001b[1;32m     15\u001b[0m     da_r: decline_rate,\n\u001b[1;32m     16\u001b[0m }\n\u001b[1;32m     18\u001b[0m prob \u001b[38;5;241m=\u001b[39m Problem(\n\u001b[1;32m     19\u001b[0m     name\u001b[38;5;241m=\u001b[39m\u001b[38;5;124m\"\u001b[39m\u001b[38;5;124mRun 1\u001b[39m\u001b[38;5;124m\"\u001b[39m, \n\u001b[1;32m     20\u001b[0m     t_span\u001b[38;5;241m=\u001b[39mtspan, \n\u001b[0;32m   (...)\u001b[0m\n\u001b[1;32m     25\u001b[0m     solver\u001b[38;5;241m=\u001b[39mSolver\u001b[38;5;241m.\u001b[39mcustom\n\u001b[1;32m     26\u001b[0m )\n\u001b[0;32m---> 27\u001b[0m prob\u001b[38;5;241m.\u001b[39msolve()\n\u001b[1;32m     28\u001b[0m res\u001b[38;5;241m=\u001b[39mprob\u001b[38;5;241m.\u001b[39mresults\n\u001b[1;32m     29\u001b[0m res\n",
      "File \u001b[0;32m~/Documents/Code/sysdynpy/dynsyspy/dynsyspy/problem.py:69\u001b[0m, in \u001b[0;36mProblem.solve\u001b[0;34m(self)\u001b[0m\n\u001b[1;32m     54\u001b[0m     eqs\u001b[38;5;241m.\u001b[39mappend(eq)\n\u001b[1;32m     56\u001b[0m \u001b[38;5;250m    \u001b[39m\u001b[38;5;124;03m\"\"\"for sym in self._stock_syms_fn:\u001b[39;00m\n\u001b[1;32m     57\u001b[0m \u001b[38;5;124;03m        eq_params = eq_params.subs(sym[0], sym[1])\u001b[39;00m\n\u001b[1;32m     58\u001b[0m \u001b[38;5;124;03m        init_vals_sympy[sym[1].subs(t, 0)] = self.init_vals[sym[0]]\u001b[39;00m\n\u001b[1;32m     59\u001b[0m \u001b[38;5;124;03m    eqs_sympy.append(eq_params)\"\"\"\u001b[39;00m\n\u001b[1;32m     61\u001b[0m \u001b[38;5;28;01mmatch\u001b[39;00m (\u001b[38;5;28mself\u001b[39m\u001b[38;5;241m.\u001b[39msolver):\n\u001b[1;32m     62\u001b[0m     \u001b[38;5;28;01mcase\u001b[39;00m (Solver\u001b[38;5;241m.\u001b[39msympy):\n\u001b[1;32m     63\u001b[0m         eqs_init_val \u001b[38;5;241m=\u001b[39m sp\u001b[38;5;241m.\u001b[39mdsolve(eqs_sympy, ics\u001b[38;5;241m=\u001b[39minit_vals_sympy)\n\u001b[1;32m     64\u001b[0m         \u001b[38;5;28mself\u001b[39m\u001b[38;5;241m.\u001b[39mresults \u001b[38;5;241m=\u001b[39m sympy_\u001b[38;5;241m.\u001b[39mdiscrete(\u001b[38;5;28mself\u001b[39m\u001b[38;5;241m.\u001b[39mt_span, results, eqs_init_val, \u001b[38;5;28mself\u001b[39m\u001b[38;5;241m.\u001b[39mproblem_type)\n\u001b[1;32m     65\u001b[0m     \u001b[38;5;28;01mcase\u001b[39;00m (Solver\u001b[38;5;241m.\u001b[39mcustom):\n\u001b[1;32m     66\u001b[0m         init_vals \u001b[38;5;241m=\u001b[39m np\u001b[38;5;241m.\u001b[39marray([\u001b[38;5;28mself\u001b[39m\u001b[38;5;241m.\u001b[39minit_vals[sym] \u001b[38;5;28;01mfor\u001b[39;00m sym \u001b[38;5;129;01min\u001b[39;00m \u001b[38;5;28mself\u001b[39m\u001b[38;5;241m.\u001b[39m_stock_syms])\n\u001b[1;32m     67\u001b[0m         params_vals \u001b[38;5;241m=\u001b[39m np\u001b[38;5;241m.\u001b[39marray([\u001b[38;5;28mself\u001b[39m\u001b[38;5;241m.\u001b[39mparam_vals[sym] \u001b[38;5;28;01mfor\u001b[39;00m sym \u001b[38;5;129;01min\u001b[39;00m \u001b[38;5;28mself\u001b[39m\u001b[38;5;241m.\u001b[39m_param_syms])\n\u001b[1;32m     68\u001b[0m         lambdas \u001b[38;5;241m=\u001b[39m np\u001b[38;5;241m.\u001b[39marray([sp\u001b[38;5;241m.\u001b[39mlambdify((t, (\u001b[38;5;28mself\u001b[39m\u001b[38;5;241m.\u001b[39m_stock_syms, \u001b[38;5;28mself\u001b[39m\u001b[38;5;241m.\u001b[39m_param_syms)), eq\u001b[38;5;241m.\u001b[39mrhs) \u001b[38;5;28;01mfor\u001b[39;00m eq \u001b[38;5;129;01min\u001b[39;00m eqs])\n\u001b[0;32m---> 69\u001b[0m         \u001b[38;5;28mself\u001b[39m\u001b[38;5;241m.\u001b[39mresults \u001b[38;5;241m=\u001b[39m custom\u001b[38;5;241m.\u001b[39msolve(results, lambdas, init_vals, params_vals, \u001b[38;5;28mself\u001b[39m\u001b[38;5;241m.\u001b[39mproblem_type)\n\u001b[1;32m     70\u001b[0m     \u001b[38;5;28;01mcase\u001b[39;00m\u001b[38;5;250m \u001b[39m\u001b[38;5;28;01m_\u001b[39;00m:\n\u001b[1;32m     71\u001b[0m         \u001b[38;5;28mprint\u001b[39m(\u001b[38;5;124m'\u001b[39m\u001b[38;5;124mThis solver does not exist\u001b[39m\u001b[38;5;124m'\u001b[39m)\n\u001b[1;32m     73\u001b[0m res_stocks \u001b[38;5;241m=\u001b[39m [results[s\u001b[38;5;241m.\u001b[39mname] \u001b[38;5;28;01mfor\u001b[39;00m s \u001b[38;5;129;01min\u001b[39;00m \u001b[38;5;28mself\u001b[39m\u001b[38;5;241m.\u001b[39m_stock_syms]\n\u001b[1;32m     74\u001b[0m res_params \u001b[38;5;241m=\u001b[39m [\u001b[38;5;28mself\u001b[39m\u001b[38;5;241m.\u001b[39mparam_vals[s] \u001b[38;5;28;01mfor\u001b[39;00m s \u001b[38;5;129;01min\u001b[39;00m \u001b[38;5;28mself\u001b[39m\u001b[38;5;241m.\u001b[39m_param_syms]\n",
      "File \u001b[0;32m~/Documents/Code/sysdynpy/dynsyspy/dynsyspy/solver/custom.py:12\u001b[0m, in \u001b[0;36msolve\u001b[0;34m(results, eqs, y0, params, problem_type)\u001b[0m\n\u001b[1;32m      9\u001b[0m \u001b[38;5;28;01mdef\u001b[39;00m \u001b[38;5;21msolve\u001b[39m(results, eqs, y0, params, problem_type):\n\u001b[1;32m     10\u001b[0m     \u001b[38;5;28;01mmatch\u001b[39;00m (problem_type):\n\u001b[1;32m     11\u001b[0m         \u001b[38;5;28;01mcase\u001b[39;00m (ProblemType\u001b[38;5;241m.\u001b[39mdiscrete):\n\u001b[0;32m---> 12\u001b[0m             res \u001b[38;5;241m=\u001b[39m discrete(results, eqs, y0, params)\n\u001b[1;32m     13\u001b[0m             \u001b[38;5;28;01mreturn\u001b[39;00m res\n\u001b[1;32m     14\u001b[0m         \u001b[38;5;28;01mcase\u001b[39;00m\u001b[38;5;250m \u001b[39m\u001b[38;5;28;01m_\u001b[39;00m:\n\u001b[1;32m     15\u001b[0m             \u001b[38;5;28mprint\u001b[39m(\u001b[38;5;124m'\u001b[39m\u001b[38;5;124mThis solver cannot solve this kind of problem\u001b[39m\u001b[38;5;124m'\u001b[39m)\n",
      "File \u001b[0;32m~/Documents/Code/sysdynpy/dynsyspy/dynsyspy/solver/custom.py:6\u001b[0m, in \u001b[0;36mdiscrete\u001b[0;34m(results, eqs, y0, params)\u001b[0m\n\u001b[1;32m      4\u001b[0m results\u001b[38;5;241m.\u001b[39miloc[\u001b[38;5;241m0\u001b[39m,\u001b[38;5;241m1\u001b[39m:] \u001b[38;5;241m=\u001b[39m y0\n\u001b[1;32m      5\u001b[0m \u001b[38;5;28;01mfor\u001b[39;00m idx, _ \u001b[38;5;129;01min\u001b[39;00m results\u001b[38;5;241m.\u001b[39miloc[\u001b[38;5;241m1\u001b[39m:,:]\u001b[38;5;241m.\u001b[39miterrows():\n\u001b[0;32m----> 6\u001b[0m     results\u001b[38;5;241m.\u001b[39miloc[idx,\u001b[38;5;241m1\u001b[39m:] \u001b[38;5;241m=\u001b[39m results\u001b[38;5;241m.\u001b[39miloc[idx\u001b[38;5;241m-\u001b[39m\u001b[38;5;241m1\u001b[39m,\u001b[38;5;241m1\u001b[39m:] \u001b[38;5;241m+\u001b[39m [\u001b[38;5;28mfloat\u001b[39m(eq(idx, (results\u001b[38;5;241m.\u001b[39miloc[idx\u001b[38;5;241m-\u001b[39m\u001b[38;5;241m1\u001b[39m,\u001b[38;5;241m1\u001b[39m:], params))) \u001b[38;5;28;01mfor\u001b[39;00m eq \u001b[38;5;129;01min\u001b[39;00m eqs]\n\u001b[1;32m      7\u001b[0m \u001b[38;5;28;01mreturn\u001b[39;00m results\n",
      "File \u001b[0;32m~/Documents/Code/sysdynpy/dynsyspy/dynsyspy/solver/custom.py:6\u001b[0m, in \u001b[0;36m<listcomp>\u001b[0;34m(.0)\u001b[0m\n\u001b[1;32m      4\u001b[0m results\u001b[38;5;241m.\u001b[39miloc[\u001b[38;5;241m0\u001b[39m,\u001b[38;5;241m1\u001b[39m:] \u001b[38;5;241m=\u001b[39m y0\n\u001b[1;32m      5\u001b[0m \u001b[38;5;28;01mfor\u001b[39;00m idx, _ \u001b[38;5;129;01min\u001b[39;00m results\u001b[38;5;241m.\u001b[39miloc[\u001b[38;5;241m1\u001b[39m:,:]\u001b[38;5;241m.\u001b[39miterrows():\n\u001b[0;32m----> 6\u001b[0m     results\u001b[38;5;241m.\u001b[39miloc[idx,\u001b[38;5;241m1\u001b[39m:] \u001b[38;5;241m=\u001b[39m results\u001b[38;5;241m.\u001b[39miloc[idx\u001b[38;5;241m-\u001b[39m\u001b[38;5;241m1\u001b[39m,\u001b[38;5;241m1\u001b[39m:] \u001b[38;5;241m+\u001b[39m [\u001b[38;5;28mfloat\u001b[39m(eq(idx, (results\u001b[38;5;241m.\u001b[39miloc[idx\u001b[38;5;241m-\u001b[39m\u001b[38;5;241m1\u001b[39m,\u001b[38;5;241m1\u001b[39m:], params))) \u001b[38;5;28;01mfor\u001b[39;00m eq \u001b[38;5;129;01min\u001b[39;00m eqs]\n\u001b[1;32m      7\u001b[0m \u001b[38;5;28;01mreturn\u001b[39;00m results\n",
      "File \u001b[0;32m~/anaconda3/envs/AnalyseClimate/lib/python3.11/site-packages/sympy/core/expr.py:351\u001b[0m, in \u001b[0;36mExpr.__float__\u001b[0;34m(self)\u001b[0m\n\u001b[1;32m    349\u001b[0m \u001b[38;5;28;01mif\u001b[39;00m result\u001b[38;5;241m.\u001b[39mis_number \u001b[38;5;129;01mand\u001b[39;00m result\u001b[38;5;241m.\u001b[39mas_real_imag()[\u001b[38;5;241m1\u001b[39m]:\n\u001b[1;32m    350\u001b[0m     \u001b[38;5;28;01mraise\u001b[39;00m \u001b[38;5;167;01mTypeError\u001b[39;00m(\u001b[38;5;124m\"\u001b[39m\u001b[38;5;124mCannot convert complex to float\u001b[39m\u001b[38;5;124m\"\u001b[39m)\n\u001b[0;32m--> 351\u001b[0m \u001b[38;5;28;01mraise\u001b[39;00m \u001b[38;5;167;01mTypeError\u001b[39;00m(\u001b[38;5;124m\"\u001b[39m\u001b[38;5;124mCannot convert expression to float\u001b[39m\u001b[38;5;124m\"\u001b[39m)\n",
      "\u001b[0;31mTypeError\u001b[0m: Cannot convert expression to float"
     ]
    }
   ],
   "source": [
    "tspan = np.arange(2020,2425,5)\n",
    "init_vals={\n",
    "    P:init_pop,\n",
    "    A:init_level_prod,\n",
    "    K:init_k,\n",
    "    a: init_growth_rate\n",
    "}\n",
    "sf=lambda : 0.25 * t\n",
    "params_vals={\n",
    "    s: 0.25,\n",
    "    p_r: param_2050_pop,\n",
    "    p_asymp: asymp_pop,\n",
    "    delta: depreciation,\n",
    "    gamma: capital_share,\n",
    "    da_r: decline_rate,\n",
    "}\n",
    "\n",
    "prob = Problem(\n",
    "    name=\"Run 1\", \n",
    "    t_span=tspan, \n",
    "    system=sys,  \n",
    "    init_vals=init_vals, \n",
    "    param_vals=params_vals, \n",
    "    policy_vals={},\n",
    "    solver=Solver.custom\n",
    ")\n",
    "prob.solve()\n",
    "res=prob.results\n",
    "res"
   ]
  },
  {
   "cell_type": "code",
   "execution_count": null,
   "metadata": {},
   "outputs": [],
   "source": [
    "\"\"\"yg_eq = Ygi.eq\n",
    "yg_lambda = sp.lambdify(((P, A, K, a), (p_r, p_asymp, delta, gamma, da_r)), yg_eq)\n",
    "yg_array = yg_lambda((res.P, res.A, res.K, res.a), (param_2050_pop, asymp_pop, depreciation, capital_share, decline_rate,))\n",
    "p_flow_lambda = sp.lambdify(((P, A, K, a), (p_r, p_asymp, delta, gamma, da_r)), flow_in_p.eq)\n",
    "p_flow = p_flow_lambda((res.P, res.A, res.K, res.a), (param_2050_pop, asymp_pop, depreciation, capital_share, decline_rate,))\n",
    "p_flow\n",
    "yg_array\n",
    "res\"\"\""
   ]
  },
  {
   "cell_type": "code",
   "execution_count": null,
   "metadata": {},
   "outputs": [],
   "source": [
    "#res[\"Yg\"] = res.A * res.K**params_vals[gamma] * (res.P/1000)**(1-params_vals[gamma])\n",
    "#res[\"Yn\"] = res.Yg - damage\n",
    "#res[\"I\"] = sav_rate * res[\"Yn\"]"
   ]
  },
  {
   "cell_type": "markdown",
   "metadata": {},
   "source": [
    "### Verification with Excel file numbers"
   ]
  },
  {
   "cell_type": "code",
   "execution_count": null,
   "metadata": {},
   "outputs": [],
   "source": [
    "enddate = 2100\n",
    "slice = int((2100-2020)/5+1)\n",
    "#dice_df.columns"
   ]
  },
  {
   "cell_type": "code",
   "execution_count": null,
   "metadata": {},
   "outputs": [],
   "source": [
    "px.line(x=dice_df.Year[:slice], y=[dice_df.Population[:slice], res.P[:slice]] )"
   ]
  },
  {
   "cell_type": "code",
   "execution_count": null,
   "metadata": {},
   "outputs": [],
   "source": [
    "px.line(x=dice_df.Year[:slice], y=[dice_df.TFP[:slice], res.A[:slice]] )"
   ]
  },
  {
   "cell_type": "code",
   "execution_count": null,
   "metadata": {},
   "outputs": [],
   "source": [
    "px.line(x=dice_df.Year[:slice], y=[dice_df.Outputgrossgross2019[:slice], res.Y_g[:slice]])"
   ]
  },
  {
   "cell_type": "code",
   "execution_count": null,
   "metadata": {},
   "outputs": [],
   "source": [
    "#px.line(x=dice_df.Year[:slice], y=[dice_df.Ygrossnet2019[:slice], res.Y_n[:slice]])"
   ]
  },
  {
   "cell_type": "code",
   "execution_count": null,
   "metadata": {},
   "outputs": [],
   "source": [
    "px.line(x=dice_df.Year[:slice], y=[dice_df.Capitalstock2019[:slice], res.K[:slice]])"
   ]
  },
  {
   "cell_type": "code",
   "execution_count": null,
   "metadata": {},
   "outputs": [],
   "source": [
    "px.line(x=dice_df.Year[:slice], y=[dice_df.Grossinvestment2019[:slice], res.I[:slice]])"
   ]
  },
  {
   "cell_type": "code",
   "execution_count": null,
   "metadata": {},
   "outputs": [],
   "source": []
  },
  {
   "cell_type": "code",
   "execution_count": null,
   "metadata": {},
   "outputs": [],
   "source": []
  },
  {
   "cell_type": "code",
   "execution_count": null,
   "metadata": {},
   "outputs": [],
   "source": [
    "sp.var('Account', cls=sp.Function)\n",
    "sp.var('time int_r')"
   ]
  },
  {
   "cell_type": "code",
   "execution_count": null,
   "metadata": {},
   "outputs": [],
   "source": [
    "eq = sp.Eq(Account(time).diff(time), int_r * Account(time))\n",
    "eq"
   ]
  },
  {
   "cell_type": "code",
   "execution_count": null,
   "metadata": {},
   "outputs": [],
   "source": [
    "solved = sp.dsolve(eq)"
   ]
  },
  {
   "cell_type": "code",
   "execution_count": null,
   "metadata": {},
   "outputs": [],
   "source": [
    "eq_lambda = sp.lambdify((time, Account), solved)"
   ]
  },
  {
   "cell_type": "code",
   "execution_count": null,
   "metadata": {},
   "outputs": [],
   "source": [
    "eq_lambda((2, 10))"
   ]
  },
  {
   "cell_type": "code",
   "execution_count": null,
   "metadata": {},
   "outputs": [],
   "source": []
  }
 ],
 "metadata": {
  "kernelspec": {
   "display_name": "Python 3 (ipykernel)",
   "language": "python",
   "name": "python3"
  },
  "language_info": {
   "codemirror_mode": {
    "name": "ipython",
    "version": 3
   },
   "file_extension": ".py",
   "mimetype": "text/x-python",
   "name": "python",
   "nbconvert_exporter": "python",
   "pygments_lexer": "ipython3",
   "version": "3.11.8"
  }
 },
 "nbformat": 4,
 "nbformat_minor": 4
}
